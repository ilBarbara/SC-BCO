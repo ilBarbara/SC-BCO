{
 "cells": [
  {
   "cell_type": "code",
   "execution_count": 4,
   "metadata": {},
   "outputs": [],
   "source": [
    "import gym\n",
    "\n",
    "env = gym.make('Reacher-v2')\n"
   ]
  },
  {
   "cell_type": "code",
   "execution_count": 5,
   "metadata": {},
   "outputs": [
    {
     "name": "stdout",
     "output_type": "stream",
     "text": [
      "(11,) (2,)\n"
     ]
    }
   ],
   "source": [
    "print(env.observation_space.shape, env.action_space.shape)"
   ]
  },
  {
   "cell_type": "code",
   "execution_count": 27,
   "metadata": {},
   "outputs": [
    {
     "name": "stdout",
     "output_type": "stream",
     "text": [
      "[ 0.99851491  0.99994071  0.05447909 -0.01088972 -0.0978359  -0.13780612\n",
      "  0.00244727  0.00189328  0.30758278  0.14805028  0.        ]\n",
      "[ 0.05450607 -0.01088994 -0.0978359  -0.13780612]\n",
      "[0.00244727 0.00189328 0.         0.        ]\n"
     ]
    }
   ],
   "source": [
    "obs = env.reset()\n",
    "print(obs)\n",
    "print(env.sim.data.qpos)\n",
    "print(env.sim.data.qvel)"
   ]
  },
  {
   "cell_type": "code",
   "execution_count": 28,
   "metadata": {},
   "outputs": [
    {
     "name": "stdout",
     "output_type": "stream",
     "text": [
      "MjSimState(time=0.0, qpos=array([ 0.05450607, -0.01088994, -0.0978359 , -0.13780612]), qvel=array([0.00244727, 0.00189328, 0.        , 0.        ]), act=None, udd_state={})\n",
      "[ 0.05450607 -0.01088994 -0.0978359  -0.13780612]\n",
      "[0.00244727 0.00189328 0.         0.        ]\n"
     ]
    }
   ],
   "source": [
    "st = env.sim.get_state()\n",
    "print(st)\n",
    "print(env.sim.data.qpos)\n",
    "print(env.sim.data.qvel)"
   ]
  },
  {
   "cell_type": "code",
   "execution_count": 29,
   "metadata": {},
   "outputs": [
    {
     "name": "stdout",
     "output_type": "stream",
     "text": [
      "[ 9.98816012e-01  9.98525495e-01  4.86474573e-02 -5.42847717e-02\n",
      "  5.68376166e-02 -1.31636684e-01 -1.72325536e-05  3.22611473e-03\n",
      "  1.53042232e-01  1.35880505e-01  0.00000000e+00]\n",
      "[ 0.04866667 -0.05431147  0.05683762 -0.13163668]\n",
      "[-1.72325536e-05  3.22611473e-03  0.00000000e+00  0.00000000e+00]\n"
     ]
    }
   ],
   "source": [
    "obs = env.reset()\n",
    "print(obs)\n",
    "print(env.sim.data.qpos)\n",
    "print(env.sim.data.qvel)"
   ]
  },
  {
   "cell_type": "code",
   "execution_count": 30,
   "metadata": {},
   "outputs": [
    {
     "name": "stdout",
     "output_type": "stream",
     "text": [
      "[ 0.05450607 -0.01088994 -0.0978359  -0.13780612]\n",
      "[0.00244727 0.00189328 0.         0.        ]\n"
     ]
    }
   ],
   "source": [
    "env.sim.set_state(st)\n",
    "print(env.sim.data.qpos)\n",
    "print(env.sim.data.qvel)"
   ]
  },
  {
   "cell_type": "code",
   "execution_count": 6,
   "metadata": {},
   "outputs": [
    {
     "name": "stdout",
     "output_type": "stream",
     "text": [
      "Ep 1: -48.75\n",
      "Ep 2: -44.70\n",
      "Ep 3: -39.31\n",
      "Ep 4: -45.03\n",
      "Ep 5: -37.28\n",
      "Ep 6: -40.89\n"
     ]
    }
   ],
   "source": [
    "for i in range(6):\n",
    "    env.reset()\n",
    "    rew = 0\n",
    "    \n",
    "    while True:\n",
    "        _, r, done, _ = env.step(env.action_space.sample())\n",
    "        \n",
    "        rew += r\n",
    "        \n",
    "        if done==True:\n",
    "            print('Ep %d: %.2f' % (i+1, rew))\n",
    "            \n",
    "            break"
   ]
  },
  {
   "cell_type": "code",
   "execution_count": null,
   "metadata": {},
   "outputs": [],
   "source": []
  },
  {
   "cell_type": "code",
   "execution_count": 1,
   "metadata": {},
   "outputs": [],
   "source": [
    "import torch as T\n",
    "import torch.nn as nn"
   ]
  },
  {
   "cell_type": "code",
   "execution_count": 2,
   "metadata": {},
   "outputs": [
    {
     "name": "stdout",
     "output_type": "stream",
     "text": [
      "tensor([1, 1, 1, 1, 1, 1, 1, 1, 1, 1, 1, 1, 1, 1, 1, 1, 1, 1, 1, 1, 1, 1, 1, 1],\n",
      "       dtype=torch.uint8)\n"
     ]
    }
   ],
   "source": [
    "state_size = 24\n",
    "compare = 5\n",
    "print((-compare*T.ones(state_size) == -compare*T.ones(state_size)))"
   ]
  },
  {
   "cell_type": "code",
   "execution_count": null,
   "metadata": {},
   "outputs": [],
   "source": []
  }
 ],
 "metadata": {
  "kernelspec": {
   "display_name": "Python 3",
   "language": "python",
   "name": "python3"
  },
  "language_info": {
   "codemirror_mode": {
    "name": "ipython",
    "version": 3
   },
   "file_extension": ".py",
   "mimetype": "text/x-python",
   "name": "python",
   "nbconvert_exporter": "python",
   "pygments_lexer": "ipython3",
   "version": "3.6.5"
  }
 },
 "nbformat": 4,
 "nbformat_minor": 2
}
